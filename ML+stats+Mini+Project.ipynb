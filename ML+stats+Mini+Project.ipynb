{
 "cells": [
  {
   "cell_type": "code",
   "execution_count": 1,
   "id": "45cfe95a",
   "metadata": {},
   "outputs": [],
   "source": [
    "import pandas as pd\n",
    "import numpy as np\n",
    "import seaborn as sns\n",
    "import matplotlib.pyplot as plt\n",
    "import scipy.stats as stats\n",
    "import warnings\n",
    "warnings.filterwarnings('ignore')\n",
    "from scipy.stats import chi2_contingency"
   ]
  },
  {
   "cell_type": "code",
   "execution_count": 2,
   "id": "c59f4ee8",
   "metadata": {},
   "outputs": [
    {
     "data": {
      "text/html": [
       "<div>\n",
       "<style scoped>\n",
       "    .dataframe tbody tr th:only-of-type {\n",
       "        vertical-align: middle;\n",
       "    }\n",
       "\n",
       "    .dataframe tbody tr th {\n",
       "        vertical-align: top;\n",
       "    }\n",
       "\n",
       "    .dataframe thead th {\n",
       "        text-align: right;\n",
       "    }\n",
       "</style>\n",
       "<table border=\"1\" class=\"dataframe\">\n",
       "  <thead>\n",
       "    <tr style=\"text-align: right;\">\n",
       "      <th></th>\n",
       "      <th>Name</th>\n",
       "      <th>Age</th>\n",
       "      <th>Nationality</th>\n",
       "      <th>Overall_rating</th>\n",
       "      <th>Potential</th>\n",
       "      <th>Club</th>\n",
       "      <th>Preferred Foot</th>\n",
       "      <th>International Reputation</th>\n",
       "      <th>Weak Foot</th>\n",
       "      <th>Skill Moves</th>\n",
       "      <th>Work Rate</th>\n",
       "      <th>Position</th>\n",
       "      <th>Jersey Number</th>\n",
       "      <th>Height</th>\n",
       "      <th>Weight</th>\n",
       "    </tr>\n",
       "  </thead>\n",
       "  <tbody>\n",
       "    <tr>\n",
       "      <th>0</th>\n",
       "      <td>L. Messi</td>\n",
       "      <td>31</td>\n",
       "      <td>Argentina</td>\n",
       "      <td>94</td>\n",
       "      <td>94</td>\n",
       "      <td>FC Barcelona</td>\n",
       "      <td>Left</td>\n",
       "      <td>5</td>\n",
       "      <td>4</td>\n",
       "      <td>4</td>\n",
       "      <td>Medium/ Medium</td>\n",
       "      <td>RF</td>\n",
       "      <td>10</td>\n",
       "      <td>5.583333</td>\n",
       "      <td>159</td>\n",
       "    </tr>\n",
       "    <tr>\n",
       "      <th>1</th>\n",
       "      <td>Cristiano Ronaldo</td>\n",
       "      <td>33</td>\n",
       "      <td>Portugal</td>\n",
       "      <td>94</td>\n",
       "      <td>94</td>\n",
       "      <td>Juventus</td>\n",
       "      <td>Right</td>\n",
       "      <td>5</td>\n",
       "      <td>4</td>\n",
       "      <td>5</td>\n",
       "      <td>High/ Low</td>\n",
       "      <td>ST</td>\n",
       "      <td>7</td>\n",
       "      <td>6.166667</td>\n",
       "      <td>183</td>\n",
       "    </tr>\n",
       "    <tr>\n",
       "      <th>2</th>\n",
       "      <td>Neymar Jr</td>\n",
       "      <td>26</td>\n",
       "      <td>Brazil</td>\n",
       "      <td>92</td>\n",
       "      <td>93</td>\n",
       "      <td>Paris Saint-Germain</td>\n",
       "      <td>Right</td>\n",
       "      <td>5</td>\n",
       "      <td>5</td>\n",
       "      <td>5</td>\n",
       "      <td>High/ Medium</td>\n",
       "      <td>LW</td>\n",
       "      <td>10</td>\n",
       "      <td>5.750000</td>\n",
       "      <td>150</td>\n",
       "    </tr>\n",
       "    <tr>\n",
       "      <th>3</th>\n",
       "      <td>De Gea</td>\n",
       "      <td>27</td>\n",
       "      <td>Spain</td>\n",
       "      <td>91</td>\n",
       "      <td>93</td>\n",
       "      <td>Manchester United</td>\n",
       "      <td>Right</td>\n",
       "      <td>4</td>\n",
       "      <td>3</td>\n",
       "      <td>1</td>\n",
       "      <td>Medium/ Medium</td>\n",
       "      <td>GK</td>\n",
       "      <td>1</td>\n",
       "      <td>6.333333</td>\n",
       "      <td>168</td>\n",
       "    </tr>\n",
       "    <tr>\n",
       "      <th>4</th>\n",
       "      <td>K. De Bruyne</td>\n",
       "      <td>27</td>\n",
       "      <td>Belgium</td>\n",
       "      <td>91</td>\n",
       "      <td>92</td>\n",
       "      <td>Manchester City</td>\n",
       "      <td>Right</td>\n",
       "      <td>4</td>\n",
       "      <td>5</td>\n",
       "      <td>4</td>\n",
       "      <td>High/ High</td>\n",
       "      <td>RCM</td>\n",
       "      <td>7</td>\n",
       "      <td>5.083333</td>\n",
       "      <td>154</td>\n",
       "    </tr>\n",
       "  </tbody>\n",
       "</table>\n",
       "</div>"
      ],
      "text/plain": [
       "                Name  Age Nationality  Overall_rating  Potential  \\\n",
       "0           L. Messi   31   Argentina              94         94   \n",
       "1  Cristiano Ronaldo   33    Portugal              94         94   \n",
       "2          Neymar Jr   26      Brazil              92         93   \n",
       "3             De Gea   27       Spain              91         93   \n",
       "4       K. De Bruyne   27     Belgium              91         92   \n",
       "\n",
       "                  Club Preferred Foot  International Reputation  Weak Foot  \\\n",
       "0         FC Barcelona           Left                         5          4   \n",
       "1             Juventus          Right                         5          4   \n",
       "2  Paris Saint-Germain          Right                         5          5   \n",
       "3    Manchester United          Right                         4          3   \n",
       "4      Manchester City          Right                         4          5   \n",
       "\n",
       "   Skill Moves       Work Rate Position  Jersey Number    Height  Weight  \n",
       "0            4  Medium/ Medium       RF             10  5.583333     159  \n",
       "1            5       High/ Low       ST              7  6.166667     183  \n",
       "2            5    High/ Medium       LW             10  5.750000     150  \n",
       "3            1  Medium/ Medium       GK              1  6.333333     168  \n",
       "4            4      High/ High      RCM              7  5.083333     154  "
      ]
     },
     "execution_count": 2,
     "metadata": {},
     "output_type": "execute_result"
    }
   ],
   "source": [
    "df = pd.read_csv('fifa_stats.csv')\n",
    "df.head()"
   ]
  },
  {
   "cell_type": "code",
   "execution_count": 3,
   "id": "38e30b90",
   "metadata": {},
   "outputs": [
    {
     "data": {
      "text/plain": [
       "Name                         0\n",
       "Age                          0\n",
       "Nationality                  0\n",
       "Overall_rating               0\n",
       "Potential                    0\n",
       "Club                        19\n",
       "Preferred Foot               0\n",
       "International Reputation     0\n",
       "Weak Foot                    0\n",
       "Skill Moves                  0\n",
       "Work Rate                    0\n",
       "Position                     0\n",
       "Jersey Number                0\n",
       "Height                       0\n",
       "Weight                       0\n",
       "dtype: int64"
      ]
     },
     "execution_count": 3,
     "metadata": {},
     "output_type": "execute_result"
    }
   ],
   "source": [
    "df.isnull().sum()"
   ]
  },
  {
   "cell_type": "code",
   "execution_count": 10,
   "id": "0e432647",
   "metadata": {},
   "outputs": [
    {
     "data": {
      "text/plain": [
       "0.95"
      ]
     },
     "execution_count": 10,
     "metadata": {},
     "output_type": "execute_result"
    }
   ],
   "source": [
    "df['Club'].isnull().sum()/len(df)*100"
   ]
  },
  {
   "cell_type": "code",
   "execution_count": 13,
   "id": "69830286",
   "metadata": {},
   "outputs": [],
   "source": [
    "df.dropna(subset=['Club'],inplace=True)"
   ]
  },
  {
   "cell_type": "code",
   "execution_count": 14,
   "id": "3cca8a97",
   "metadata": {},
   "outputs": [
    {
     "data": {
      "text/plain": [
       "0"
      ]
     },
     "execution_count": 14,
     "metadata": {},
     "output_type": "execute_result"
    }
   ],
   "source": [
    "df.isnull().sum().sum()"
   ]
  },
  {
   "cell_type": "markdown",
   "id": "b6145444",
   "metadata": {},
   "source": [
    "### a)\tAssuming age as population, perform the central limit theorem with sample size of 200. Find the standard error and the mean of sampling distribution. Compare the results with population mean and standard deviation. Explain in non-technical terms why the estimated standard error of a sample mean tends to decrease with an increase in sample size\n",
    "\n"
   ]
  },
  {
   "cell_type": "code",
   "execution_count": 23,
   "id": "355c8929",
   "metadata": {},
   "outputs": [
    {
     "name": "stdout",
     "output_type": "stream",
     "text": [
      "Population mean 27.215547703180214\n",
      "standard deviation 3.8525185996930396\n",
      "standard error 0.27241420264902505\n",
      "sample mean 27.749479540372302\n",
      "Confidence interval for 95%\n",
      "(27.198465486266123, 27.232629920094304)\n"
     ]
    }
   ],
   "source": [
    "n = 200\n",
    "mu = df['Age'].mean()\n",
    "print('Population mean',mu)\n",
    "sd = df['Age'].std()\n",
    "print('standard deviation',sd)\n",
    "se = sd/np.sqrt(n)\n",
    "print('standard error',se)\n",
    "xbar = mu+1.96*(se)\n",
    "print('sample mean',xbar)\n",
    "print('Confidence interval for 95%')\n",
    "print(stats.norm.interval(0.05,loc=mu,scale=se))"
   ]
  },
  {
   "cell_type": "markdown",
   "id": "2571ecfd",
   "metadata": {},
   "source": [
    "## b)\tIs there any evidence that the players overall rating is greater than 80?"
   ]
  },
  {
   "cell_type": "code",
   "execution_count": null,
   "id": "10f52916",
   "metadata": {},
   "outputs": [],
   "source": [
    "Ho: The overall rating <= 80\n",
    "H1: The overall rating > 80"
   ]
  },
  {
   "cell_type": "code",
   "execution_count": 5,
   "id": "0a4a74e4",
   "metadata": {},
   "outputs": [
    {
     "name": "stdout",
     "output_type": "stream",
     "text": [
      "Xbar 78.197\n",
      "Critical value\n",
      "78.07614192540507\n",
      "P-value\n",
      "2.8718642827629733e-133\n",
      "The critical value is in the critical region and the p-value is less than 5%,Hence Reject Null and conclude that the overall rating is greater than 80\n"
     ]
    }
   ],
   "source": [
    "r1 = df['Overall_rating']\n",
    "n = len(df['Overall_rating'])\n",
    "mu = 80\n",
    "xbar = (df['Overall_rating']).mean()\n",
    "print('Xbar',xbar)\n",
    "sd = (df['Overall_rating']).std()\n",
    "se = sd/np.sqrt(n)\n",
    "print('Critical value')\n",
    "print(stats.norm.isf(0.95,loc=xbar,scale=se))\n",
    "print('P-value')\n",
    "print(stats.norm.cdf(xbar,loc=mu,scale=se))\n",
    "print('The critical value is in the critical region and the p-value is less than 5%,Hence Reject Null and conclude that the overall rating is greater than 80')"
   ]
  },
  {
   "cell_type": "code",
   "execution_count": 6,
   "id": "5a0e238f",
   "metadata": {},
   "outputs": [
    {
     "data": {
      "text/plain": [
       "2000"
      ]
     },
     "execution_count": 6,
     "metadata": {},
     "output_type": "execute_result"
    }
   ],
   "source": [
    "len(df['Overall_rating'])"
   ]
  },
  {
   "cell_type": "code",
   "execution_count": 45,
   "id": "f5e6f7ab",
   "metadata": {},
   "outputs": [
    {
     "data": {
      "text/plain": [
       "0.0"
      ]
     },
     "execution_count": 45,
     "metadata": {},
     "output_type": "execute_result"
    }
   ],
   "source": [
    "stats.norm.cdf(xbar,loc=mu,scale=se)"
   ]
  },
  {
   "cell_type": "code",
   "execution_count": 8,
   "id": "43ab0cec",
   "metadata": {},
   "outputs": [
    {
     "data": {
      "image/png": "[encoded data removed]",
      "text/plain": [
       "<Figure size 432x288 with 1 Axes>"
      ]
     },
     "metadata": {
      "needs_background": "light"
     },
     "output_type": "display_data"
    }
   ],
   "source": [
    "sns.distplot(df['Overall_rating'])\n",
    "plt.show()"
   ]
  },
  {
   "cell_type": "markdown",
   "id": "8263a4b4",
   "metadata": {},
   "source": [
    "## c)\tPerform the statistical test to identify whether preferred foot has any impact on potential. Also, perform the graphical analysis."
   ]
  },
  {
   "cell_type": "code",
   "execution_count": 33,
   "id": "22283820",
   "metadata": {},
   "outputs": [
    {
     "data": {
      "text/plain": [
       "Right    1519\n",
       "Left      462\n",
       "Name: Preferred Foot, dtype: int64"
      ]
     },
     "execution_count": 33,
     "metadata": {},
     "output_type": "execute_result"
    }
   ],
   "source": [
    "df['Preferred Foot'].value_counts()"
   ]
  },
  {
   "cell_type": "code",
   "execution_count": 35,
   "id": "e9fcbd48",
   "metadata": {},
   "outputs": [
    {
     "data": {
      "text/plain": [
       "array([94, 93, 92, 91, 90, 89, 95, 88, 87, 86, 85, 84, 83, 82, 81, 80, 79,\n",
       "       78, 77, 76, 75], dtype=int64)"
      ]
     },
     "execution_count": 35,
     "metadata": {},
     "output_type": "execute_result"
    }
   ],
   "source": [
    "df['Potential'].unique()"
   ]
  },
  {
   "cell_type": "code",
   "execution_count": 59,
   "id": "10921d26",
   "metadata": {},
   "outputs": [
    {
     "name": "stdout",
     "output_type": "stream",
     "text": [
      "ShapiroResult(statistic=0.9373535513877869, pvalue=8.425229710834448e-25)\n",
      "ShapiroResult(statistic=0.9437844157218933, pvalue=3.187897645515192e-12)\n",
      "LeveneResult(statistic=1.5665635192734586, pvalue=0.2108546965781491)\n",
      "The P-value is less than 5% for shapiro test as we can conclude that the data is not normal\n",
      "F_onewayResult(statistic=2.6621845772621833, pvalue=0.10291861885209323)\n",
      "The p-value is more than 5%,Hence Failed to Reject Null and conclude that the preferred foot has impact on potential\n"
     ]
    },
    {
     "data": {
      "image/png": "[encoded data removed]",
      "text/plain": [
       "<Figure size 432x288 with 1 Axes>"
      ]
     },
     "metadata": {
      "needs_background": "light"
     },
     "output_type": "display_data"
    }
   ],
   "source": [
    "p1 = df[df['Preferred Foot'] == 'Right']['Potential']\n",
    "p2 = df[df['Preferred Foot'] == 'Left']['Potential']\n",
    "sns.distplot(p1)\n",
    "sns.distplot(p2)\n",
    "print(stats.shapiro(p1))\n",
    "print(stats.shapiro(p2))\n",
    "print(stats.levene(p1,p2))\n",
    "print('The P-value is less than 5% for shapiro test as we can conclude that the data is not normal')\n",
    "print(stats.f_oneway(p1,p2))\n",
    "print('The p-value is more than 5%,Hence Failed to Reject Null and conclude that the preferred foot has impact on potential')"
   ]
  },
  {
   "cell_type": "code",
   "execution_count": 57,
   "id": "272eee0d",
   "metadata": {},
   "outputs": [
    {
     "data": {
      "text/plain": [
       "1981"
      ]
     },
     "execution_count": 57,
     "metadata": {},
     "output_type": "execute_result"
    }
   ],
   "source": [
    "df['Potential'].value_counts().sum()"
   ]
  },
  {
   "cell_type": "markdown",
   "id": "e0dd3746",
   "metadata": {},
   "source": [
    "## d)\tPerform the statistical test to identify the relation between the overall rating and potential. [Assume both are continuous data points]."
   ]
  },
  {
   "cell_type": "code",
   "execution_count": 76,
   "id": "b381817d",
   "metadata": {},
   "outputs": [
    {
     "name": "stdout",
     "output_type": "stream",
     "text": [
      "Zscore -17.86119755089135\n",
      "Critical value\n",
      "1.6448536269514729\n",
      "P-value\n",
      "1.1825499530305208e-71\n",
      "The p-value is less than 5%,Hence Reject Null and conclude that there is relation between overall rating and potential\n"
     ]
    }
   ],
   "source": [
    "x1 = df['Overall_rating'].mean()\n",
    "x2 = df['Potential'].mean()\n",
    "s1 = df['Overall_rating'].std()\n",
    "s2 = df['Potential'].std()\n",
    "n1 = len(df['Overall_rating'])\n",
    "n2 = len(df['Potential'])\n",
    "zscore = (x1-x2)/np.sqrt((s1**2/n1)+(s2**2/n2))\n",
    "print('Zscore',zscore)\n",
    "print('Critical value')\n",
    "print(stats.norm.isf(0.05))\n",
    "print('P-value')\n",
    "print(stats.norm.cdf(zscore))\n",
    "print('The p-value is less than 5%,Hence Reject Null and conclude that there is relation between overall rating and potential')"
   ]
  },
  {
   "cell_type": "markdown",
   "id": "946e0243",
   "metadata": {},
   "source": [
    "### e)\tDoes skill move have any effect in overall rating? Perform the graphical analysis and the statistical analysis."
   ]
  },
  {
   "cell_type": "code",
   "execution_count": 77,
   "id": "c8a77745",
   "metadata": {},
   "outputs": [
    {
     "name": "stdout",
     "output_type": "stream",
     "text": [
      "Zscore -976.4188932734295\n",
      "Critical value\n",
      "1.6448536269514729\n",
      "P-value\n",
      "0.0\n"
     ]
    },
    {
     "data": {
      "image/png": "[encoded data removed]",
      "text/plain": [
       "<Figure size 432x288 with 1 Axes>"
      ]
     },
     "metadata": {
      "needs_background": "light"
     },
     "output_type": "display_data"
    }
   ],
   "source": [
    "xbar = df['Skill Moves'].mean()\n",
    "ybar = df['Overall_rating'].mean()\n",
    "s1 = df['Skill Moves'].std()\n",
    "s2 = df['Overall_rating'].std()\n",
    "n1 = len(df['Skill Moves'])\n",
    "n2 = len(df['Overall_rating'])\n",
    "zscore = (xbar-ybar)/np.sqrt((s1**2/n1)+(s2**2/n2))\n",
    "print('Zscore',zscore)\n",
    "sns.distplot(df['Skill Moves'])\n",
    "sns.distplot(df['Overall_rating'])\n",
    "print('Critical value')\n",
    "print(stats.norm.isf(0.05))\n",
    "print('P-value')\n",
    "print(stats.norm.cdf(zscore))"
   ]
  },
  {
   "cell_type": "code",
   "execution_count": 10,
   "id": "642a2432",
   "metadata": {},
   "outputs": [
    {
     "data": {
      "text/html": [
       "<div>\n",
       "<style scoped>\n",
       "    .dataframe tbody tr th:only-of-type {\n",
       "        vertical-align: middle;\n",
       "    }\n",
       "\n",
       "    .dataframe tbody tr th {\n",
       "        vertical-align: top;\n",
       "    }\n",
       "\n",
       "    .dataframe thead th {\n",
       "        text-align: right;\n",
       "    }\n",
       "</style>\n",
       "<table border=\"1\" class=\"dataframe\">\n",
       "  <thead>\n",
       "    <tr style=\"text-align: right;\">\n",
       "      <th></th>\n",
       "      <th>date</th>\n",
       "      <th>duration</th>\n",
       "      <th>item</th>\n",
       "      <th>month</th>\n",
       "      <th>network</th>\n",
       "      <th>network_type</th>\n",
       "    </tr>\n",
       "  </thead>\n",
       "  <tbody>\n",
       "    <tr>\n",
       "      <th>0</th>\n",
       "      <td>15-10-14 6:58</td>\n",
       "      <td>221.321120</td>\n",
       "      <td>data</td>\n",
       "      <td>2014-11</td>\n",
       "      <td>data</td>\n",
       "      <td>data</td>\n",
       "    </tr>\n",
       "    <tr>\n",
       "      <th>1</th>\n",
       "      <td>15-10-14 6:58</td>\n",
       "      <td>81.610599</td>\n",
       "      <td>call</td>\n",
       "      <td>2014-11</td>\n",
       "      <td>Vodafone</td>\n",
       "      <td>mobile</td>\n",
       "    </tr>\n",
       "    <tr>\n",
       "      <th>2</th>\n",
       "      <td>15-10-14 14:46</td>\n",
       "      <td>143.109111</td>\n",
       "      <td>call</td>\n",
       "      <td>2014-11</td>\n",
       "      <td>Meteor</td>\n",
       "      <td>mobile</td>\n",
       "    </tr>\n",
       "    <tr>\n",
       "      <th>3</th>\n",
       "      <td>15-10-14 14:48</td>\n",
       "      <td>111.888670</td>\n",
       "      <td>call</td>\n",
       "      <td>2014-11</td>\n",
       "      <td>Tesco</td>\n",
       "      <td>mobile</td>\n",
       "    </tr>\n",
       "    <tr>\n",
       "      <th>4</th>\n",
       "      <td>15-10-14 17:27</td>\n",
       "      <td>246.695171</td>\n",
       "      <td>call</td>\n",
       "      <td>2014-11</td>\n",
       "      <td>Tesco</td>\n",
       "      <td>mobile</td>\n",
       "    </tr>\n",
       "  </tbody>\n",
       "</table>\n",
       "</div>"
      ],
      "text/plain": [
       "             date    duration  item    month   network network_type\n",
       "0   15-10-14 6:58  221.321120  data  2014-11      data         data\n",
       "1   15-10-14 6:58   81.610599  call  2014-11  Vodafone       mobile\n",
       "2  15-10-14 14:46  143.109111  call  2014-11    Meteor       mobile\n",
       "3  15-10-14 14:48  111.888670  call  2014-11     Tesco       mobile\n",
       "4  15-10-14 17:27  246.695171  call  2014-11     Tesco       mobile"
      ]
     },
     "execution_count": 10,
     "metadata": {},
     "output_type": "execute_result"
    }
   ],
   "source": [
    "df1 = pd.read_csv('phone.csv')\n",
    "df1.head()"
   ]
  },
  {
   "cell_type": "code",
   "execution_count": 79,
   "id": "9d76278f",
   "metadata": {},
   "outputs": [
    {
     "data": {
      "text/plain": [
       "(820, 6)"
      ]
     },
     "execution_count": 79,
     "metadata": {},
     "output_type": "execute_result"
    }
   ],
   "source": [
    "df1.shape"
   ]
  },
  {
   "cell_type": "code",
   "execution_count": 81,
   "id": "5ede7201",
   "metadata": {},
   "outputs": [
    {
     "data": {
      "text/plain": [
       "0"
      ]
     },
     "execution_count": 81,
     "metadata": {},
     "output_type": "execute_result"
    }
   ],
   "source": [
    "df1.isnull().sum().sum()"
   ]
  },
  {
   "cell_type": "code",
   "execution_count": 82,
   "id": "2fc426e4",
   "metadata": {},
   "outputs": [
    {
     "name": "stdout",
     "output_type": "stream",
     "text": [
      "<class 'pandas.core.frame.DataFrame'>\n",
      "RangeIndex: 820 entries, 0 to 819\n",
      "Data columns (total 6 columns):\n",
      " #   Column        Non-Null Count  Dtype  \n",
      "---  ------        --------------  -----  \n",
      " 0   date          820 non-null    object \n",
      " 1   duration      820 non-null    float64\n",
      " 2   item          820 non-null    object \n",
      " 3   month         820 non-null    object \n",
      " 4   network       820 non-null    object \n",
      " 5   network_type  820 non-null    object \n",
      "dtypes: float64(1), object(5)\n",
      "memory usage: 38.6+ KB\n"
     ]
    }
   ],
   "source": [
    "df1.info()"
   ]
  },
  {
   "cell_type": "markdown",
   "id": "2b716c36",
   "metadata": {},
   "source": [
    "### a)With 95% & 99% Confidence Interval, find the range estimate of average duration calls made by the entire network. Which of the Intervals are wider? Interpret the results."
   ]
  },
  {
   "cell_type": "code",
   "execution_count": 86,
   "id": "ff3d8979",
   "metadata": {},
   "outputs": [
    {
     "data": {
      "text/plain": [
       "820"
      ]
     },
     "execution_count": 86,
     "metadata": {},
     "output_type": "execute_result"
    }
   ],
   "source": [
    "df1['duration'].nunique()"
   ]
  },
  {
   "cell_type": "code",
   "execution_count": 87,
   "id": "349746c8",
   "metadata": {},
   "outputs": [
    {
     "data": {
      "text/plain": [
       "array(['data', 'Vodafone', 'Meteor', 'Tesco', 'Three', 'voicemail',\n",
       "       'landline'], dtype=object)"
      ]
     },
     "execution_count": 87,
     "metadata": {},
     "output_type": "execute_result"
    }
   ],
   "source": [
    "df1['network'].unique()"
   ]
  },
  {
   "cell_type": "code",
   "execution_count": 90,
   "id": "b94d9694",
   "metadata": {},
   "outputs": [],
   "source": [
    "n1 = df1[df1['network'] == 'data']['duration']\n",
    "n2 = df1[df1['network'] == 'Vodafone']['duration']\n",
    "n3 = df1[df1['network'] == 'Meteor']['duration']\n",
    "n4 = df1[df1['network'] == 'Tesco']['duration']\n",
    "n5 = df1[df1['network'] == 'Three']['duration']\n",
    "n6 = df1[df1['network'] == 'voicemail']['duration']\n",
    "n7 = df1[df1['network'] == 'landline']['duration']"
   ]
  },
  {
   "cell_type": "code",
   "execution_count": 93,
   "id": "cfbdc57c",
   "metadata": {},
   "outputs": [
    {
     "name": "stdout",
     "output_type": "stream",
     "text": [
      "ShapiroResult(statistic=0.9984679818153381, pvalue=0.701244592666626)\n",
      "LeveneResult(statistic=1.529736398828682, pvalue=0.1653481809327658)\n",
      "The P-value is more than 5%,Hence the data is normal and the variances are equal according to shapiro and levenes\n"
     ]
    }
   ],
   "source": [
    "print(stats.shapiro(df1['duration']))\n",
    "print(stats.levene(n1,n2,n3,n4,n5,n6,n7))\n",
    "print('The P-value is more than 5%,Hence the data is normal and the variances are equal according to shapiro and levenes')"
   ]
  },
  {
   "cell_type": "code",
   "execution_count": 96,
   "id": "d153343c",
   "metadata": {},
   "outputs": [
    {
     "data": {
      "text/plain": [
       "<AxesSubplot:xlabel='duration', ylabel='Density'>"
      ]
     },
     "execution_count": 96,
     "metadata": {},
     "output_type": "execute_result"
    },
    {
     "data": {
      "image/png": "[encoded data removed]",
      "text/plain": [
       "<Figure size 432x288 with 1 Axes>"
      ]
     },
     "metadata": {
      "needs_background": "light"
     },
     "output_type": "display_data"
    }
   ],
   "source": [
    "sns.distplot(n1)\n",
    "sns.distplot(n2)\n",
    "sns.distplot(n3)\n",
    "sns.distplot(n4)\n",
    "sns.distplot(n5)\n",
    "sns.distplot(n6)\n",
    "sns.distplot(n7)"
   ]
  },
  {
   "cell_type": "code",
   "execution_count": 97,
   "id": "4d4175c4",
   "metadata": {},
   "outputs": [
    {
     "data": {
      "text/plain": [
       "F_onewayResult(statistic=1.4036497792001215, pvalue=0.2102939953009413)"
      ]
     },
     "execution_count": 97,
     "metadata": {},
     "output_type": "execute_result"
    }
   ],
   "source": [
    "stats.f_oneway(n1,n2,n3,n4,n5,n6,n7)"
   ]
  },
  {
   "cell_type": "markdown",
   "id": "e7deaf51",
   "metadata": {},
   "source": [
    "## The P-value is more than 5%,Hence Failed to Reject Null"
   ]
  },
  {
   "cell_type": "code",
   "execution_count": 102,
   "id": "02632563",
   "metadata": {},
   "outputs": [
    {
     "data": {
      "text/plain": [
       "<AxesSubplot:xlabel='network'>"
      ]
     },
     "execution_count": 102,
     "metadata": {},
     "output_type": "execute_result"
    },
    {
     "data": {
      "image/png": "[encoded data removed]",
      "text/plain": [
       "<Figure size 432x288 with 1 Axes>"
      ]
     },
     "metadata": {
      "needs_background": "light"
     },
     "output_type": "display_data"
    }
   ],
   "source": [
    "df1.groupby('network')['duration'].mean().plot(kind='bar')"
   ]
  },
  {
   "cell_type": "markdown",
   "id": "302e71f1",
   "metadata": {},
   "source": [
    "### b)Perform statistical analysis to check whether the networks are equally distributed in the dataset"
   ]
  },
  {
   "cell_type": "code",
   "execution_count": 12,
   "id": "6f7ca138",
   "metadata": {},
   "outputs": [
    {
     "data": {
      "text/plain": [
       "Three        215\n",
       "Vodafone     215\n",
       "data         150\n",
       "Meteor        87\n",
       "Tesco         84\n",
       "landline      42\n",
       "voicemail     27\n",
       "Name: network, dtype: int64"
      ]
     },
     "execution_count": 12,
     "metadata": {},
     "output_type": "execute_result"
    }
   ],
   "source": [
    "df1['network'].value_counts()"
   ]
  },
  {
   "cell_type": "code",
   "execution_count": null,
   "id": "67cc3fe2",
   "metadata": {},
   "outputs": [],
   "source": []
  },
  {
   "cell_type": "code",
   "execution_count": null,
   "id": "4b033805",
   "metadata": {},
   "outputs": [],
   "source": []
  },
  {
   "cell_type": "code",
   "execution_count": null,
   "id": "ee279497",
   "metadata": {},
   "outputs": [],
   "source": []
  },
  {
   "cell_type": "code",
   "execution_count": null,
   "id": "d278bb5a",
   "metadata": {},
   "outputs": [],
   "source": []
  },
  {
   "cell_type": "code",
   "execution_count": null,
   "id": "4b18747a",
   "metadata": {},
   "outputs": [],
   "source": []
  },
  {
   "cell_type": "markdown",
   "id": "1ede4b1f",
   "metadata": {},
   "source": [
    "### c) Plot the distribution of duration with respect to each network in the same graph and interpret the results from the graph"
   ]
  },
  {
   "cell_type": "code",
   "execution_count": 166,
   "id": "23aa7407",
   "metadata": {},
   "outputs": [
    {
     "name": "stdout",
     "output_type": "stream",
     "text": [
      "ShapiroResult(statistic=0.9984679818153381, pvalue=0.701244592666626)\n",
      "LeveneResult(statistic=1.529736398828682, pvalue=0.1653481809327658)\n",
      "The P-value is more than 5%,Hence the data is normal and the variances are equal according to shapiro and levenes\n"
     ]
    },
    {
     "data": {
      "image/png": "[encoded data removed]",
      "text/plain": [
       "<Figure size 432x288 with 1 Axes>"
      ]
     },
     "metadata": {
      "needs_background": "light"
     },
     "output_type": "display_data"
    }
   ],
   "source": [
    "n1 = df1[df1['network'] == 'data']['duration']\n",
    "n2 = df1[df1['network'] == 'Vodafone']['duration']\n",
    "n3 = df1[df1['network'] == 'Meteor']['duration']\n",
    "n4 = df1[df1['network'] == 'Tesco']['duration']\n",
    "n5 = df1[df1['network'] == 'Three']['duration']\n",
    "n6 = df1[df1['network'] == 'voicemail']['duration']\n",
    "n7 = df1[df1['network'] == 'landline']['duration']\n",
    "sns.distplot(n1)\n",
    "sns.distplot(n2)\n",
    "sns.distplot(n3)\n",
    "sns.distplot(n4)\n",
    "sns.distplot(n5)\n",
    "sns.distplot(n6)\n",
    "sns.distplot(n7)\n",
    "print(stats.shapiro(df1['duration']))\n",
    "print(stats.levene(n1,n2,n3,n4,n5,n6,n7))\n",
    "print('The P-value is more than 5%,Hence the data is normal and the variances are equal according to shapiro and levenes')"
   ]
  },
  {
   "cell_type": "code",
   "execution_count": 111,
   "id": "b201a2d0",
   "metadata": {},
   "outputs": [
    {
     "name": "stdout",
     "output_type": "stream",
     "text": [
      "820 7\n"
     ]
    }
   ],
   "source": [
    "N = df1['duration'].value_counts().sum()\n",
    "t = df1['network'].nunique()\n",
    "print(N,t)"
   ]
  },
  {
   "cell_type": "code",
   "execution_count": 114,
   "id": "ad50e007",
   "metadata": {
    "scrolled": true
   },
   "outputs": [
    {
     "name": "stdout",
     "output_type": "stream",
     "text": [
      "Critical value\n",
      "2.1097142075162147\n"
     ]
    }
   ],
   "source": [
    "print('Critical value')\n",
    "print(stats.f.isf(0.05,dfn=6,dfd=813))"
   ]
  },
  {
   "cell_type": "code",
   "execution_count": 133,
   "id": "9c7af2c5",
   "metadata": {},
   "outputs": [
    {
     "name": "stdout",
     "output_type": "stream",
     "text": [
      "F_onewayResult(statistic=1.4036497792001215, pvalue=0.2102939953009413)\n",
      "p-value is greater than 5%,Hence Failed to Reject Null and conclude that all the networks are having same duration\n"
     ]
    }
   ],
   "source": [
    "print(stats.f_oneway(n1,n2,n3,n4,n5,n6,n7))\n",
    "print('p-value is greater than 5%,Hence Failed to Reject Null and conclude that all the networks are having same duration')"
   ]
  },
  {
   "cell_type": "markdown",
   "id": "882ae50d",
   "metadata": {},
   "source": [
    "### d)\tPerform statistical tests to identify the relation between item and duration. Detailed explanation of relation between the classes is required."
   ]
  },
  {
   "cell_type": "code",
   "execution_count": 127,
   "id": "c0f3805c",
   "metadata": {},
   "outputs": [
    {
     "data": {
      "text/plain": [
       "array(['data', 'call', 'sms'], dtype=object)"
      ]
     },
     "execution_count": 127,
     "metadata": {},
     "output_type": "execute_result"
    }
   ],
   "source": [
    "df1['item'].unique()"
   ]
  },
  {
   "cell_type": "code",
   "execution_count": 128,
   "id": "ce59c51c",
   "metadata": {},
   "outputs": [
    {
     "data": {
      "text/plain": [
       "820"
      ]
     },
     "execution_count": 128,
     "metadata": {},
     "output_type": "execute_result"
    }
   ],
   "source": [
    "df1['duration'].nunique()"
   ]
  },
  {
   "cell_type": "code",
   "execution_count": 129,
   "id": "96d40143",
   "metadata": {},
   "outputs": [
    {
     "name": "stdout",
     "output_type": "stream",
     "text": [
      "ShapiroResult(statistic=0.9912639856338501, pvalue=0.48521795868873596)\n",
      "ShapiroResult(statistic=0.9973042011260986, pvalue=0.7803382277488708)\n",
      "ShapiroResult(statistic=0.9943404197692871, pvalue=0.37839275598526)\n",
      "LeveneResult(statistic=3.4300976447008478, pvalue=0.03285087780533987)\n"
     ]
    },
    {
     "data": {
      "text/plain": [
       "<AxesSubplot:xlabel='duration', ylabel='Density'>"
      ]
     },
     "execution_count": 129,
     "metadata": {},
     "output_type": "execute_result"
    },
    {
     "data": {
      "image/png": "[encoded data removed]",
      "text/plain": [
       "<Figure size 432x288 with 1 Axes>"
      ]
     },
     "metadata": {
      "needs_background": "light"
     },
     "output_type": "display_data"
    }
   ],
   "source": [
    "i1 = df1[df1['item'] == 'data']['duration']\n",
    "i2 = df1[df1['item'] == 'call']['duration']\n",
    "i3 = df1[df1['item'] == 'sms']['duration']\n",
    "print(stats.shapiro(i1))\n",
    "print(stats.shapiro(i2))\n",
    "print(stats.shapiro(i3))\n",
    "print(stats.levene(i1,i2,i3))\n",
    "sns.distplot(i1)\n",
    "sns.distplot(i2)\n",
    "sns.distplot(i3)"
   ]
  },
  {
   "cell_type": "code",
   "execution_count": 131,
   "id": "7e747e61",
   "metadata": {},
   "outputs": [
    {
     "name": "stdout",
     "output_type": "stream",
     "text": [
      "Critical value\n",
      "3.0067437669029107\n"
     ]
    }
   ],
   "source": [
    "print('Critical value')\n",
    "print(stats.f.isf(0.05,dfn=2,dfd=817))"
   ]
  },
  {
   "cell_type": "code",
   "execution_count": 134,
   "id": "e212aa4a",
   "metadata": {},
   "outputs": [
    {
     "name": "stdout",
     "output_type": "stream",
     "text": [
      "F_onewayResult(statistic=1.9313964906864995, pvalue=0.1456068656611744)\n",
      "P-value is more than 5%,Hence Faied to Reject Null and conclude that they both have good relation\n"
     ]
    }
   ],
   "source": [
    "print(stats.f_oneway(i1,i2,i3))\n",
    "print('P-value is more than 5%,Hence Faied to Reject Null and conclude that they both have good relation')"
   ]
  },
  {
   "cell_type": "markdown",
   "id": "7693f837",
   "metadata": {},
   "source": [
    "### e)\tPerform statistical tests to identify the relation between network and network_type."
   ]
  },
  {
   "cell_type": "code",
   "execution_count": 136,
   "id": "ecf696f1",
   "metadata": {},
   "outputs": [],
   "source": [
    "l1 = pd.crosstab(df1['network'],df1['network_type'])"
   ]
  },
  {
   "cell_type": "code",
   "execution_count": 141,
   "id": "341febaf",
   "metadata": {},
   "outputs": [
    {
     "data": {
      "text/plain": [
       "array([[  0,   0,  87,   0],\n",
       "       [  0,   0,  84,   0],\n",
       "       [  0,   0, 215,   0],\n",
       "       [  0,   0, 215,   0],\n",
       "       [150,   0,   0,   0],\n",
       "       [  0,  42,   0,   0],\n",
       "       [  0,   0,   0,  27]], dtype=int64)"
      ]
     },
     "execution_count": 141,
     "metadata": {},
     "output_type": "execute_result"
    }
   ],
   "source": [
    "observed_value = l1.values\n",
    "observed_value"
   ]
  },
  {
   "cell_type": "code",
   "execution_count": 143,
   "id": "6c396bb9",
   "metadata": {},
   "outputs": [
    {
     "name": "stdout",
     "output_type": "stream",
     "text": [
      "Critical value\n"
     ]
    },
    {
     "data": {
      "text/plain": [
       "28.869299430392637"
      ]
     },
     "execution_count": 143,
     "metadata": {},
     "output_type": "execute_result"
    }
   ],
   "source": [
    "print('Critical value')\n",
    "stats.chi2.isf(0.05,df=18)      #df = (row-1)*(column-1)"
   ]
  },
  {
   "cell_type": "code",
   "execution_count": 151,
   "id": "a793aea0",
   "metadata": {},
   "outputs": [
    {
     "data": {
      "text/plain": [
       "Power_divergenceResult(statistic=array([900.        , 252.        , 646.12978369, 162.        ]), pvalue=array([3.75671602e-191, 1.53284998e-051, 2.59979007e-136, 2.23259146e-032]))"
      ]
     },
     "execution_count": 151,
     "metadata": {},
     "output_type": "execute_result"
    }
   ],
   "source": [
    "stats.chisquare(observed_value)"
   ]
  },
  {
   "cell_type": "code",
   "execution_count": 157,
   "id": "835cbed0",
   "metadata": {},
   "outputs": [
    {
     "name": "stdout",
     "output_type": "stream",
     "text": [
      "Test statistic: 2460.0\n",
      "p-value: 0.0\n",
      "Degrees of freedom: 18\n",
      "Expected values: [[ 15.91463415   4.45609756  63.76463415   2.86463415]\n",
      " [ 15.36585366   4.30243902  61.56585366   2.76585366]\n",
      " [ 39.32926829  11.01219512 157.57926829   7.07926829]\n",
      " [ 39.32926829  11.01219512 157.57926829   7.07926829]\n",
      " [ 27.43902439   7.68292683 109.93902439   4.93902439]\n",
      " [  7.68292683   2.15121951  30.78292683   1.38292683]\n",
      " [  4.93902439   1.38292683  19.78902439   0.88902439]]\n"
     ]
    }
   ],
   "source": [
    "test_stat, p, dof, expected_value = chi2_contingency(observed = observed_value)\n",
    "\n",
    "print(\"Test statistic:\", test_stat)\n",
    "print(\"p-value:\", p)\n",
    "print(\"Degrees of freedom:\", dof)\n",
    "print(\"Expected values:\", expected_value)"
   ]
  },
  {
   "cell_type": "code",
   "execution_count": null,
   "id": "a279109b",
   "metadata": {},
   "outputs": [],
   "source": []
  },
  {
   "cell_type": "code",
   "execution_count": null,
   "id": "edf3dc3b",
   "metadata": {},
   "outputs": [],
   "source": []
  },
  {
   "cell_type": "code",
   "execution_count": null,
   "id": "36098503",
   "metadata": {},
   "outputs": [],
   "source": []
  },
  {
   "cell_type": "code",
   "execution_count": null,
   "id": "9dd9ee43",
   "metadata": {},
   "outputs": [],
   "source": []
  },
  {
   "cell_type": "code",
   "execution_count": null,
   "id": "b16e28cd",
   "metadata": {},
   "outputs": [],
   "source": []
  },
  {
   "cell_type": "code",
   "execution_count": null,
   "id": "75288a4c",
   "metadata": {},
   "outputs": [],
   "source": []
  },
  {
   "cell_type": "code",
   "execution_count": null,
   "id": "708aa03b",
   "metadata": {},
   "outputs": [],
   "source": []
  },
  {
   "cell_type": "code",
   "execution_count": null,
   "id": "15e6c286",
   "metadata": {},
   "outputs": [],
   "source": []
  },
  {
   "cell_type": "code",
   "execution_count": null,
   "id": "125df262",
   "metadata": {},
   "outputs": [],
   "source": []
  },
  {
   "cell_type": "code",
   "execution_count": null,
   "id": "4011dba3",
   "metadata": {},
   "outputs": [],
   "source": []
  },
  {
   "cell_type": "code",
   "execution_count": null,
   "id": "94a368d5",
   "metadata": {},
   "outputs": [],
   "source": []
  },
  {
   "cell_type": "code",
   "execution_count": null,
   "id": "57dc7954",
   "metadata": {},
   "outputs": [],
   "source": []
  }
 ],
 "metadata": {
  "kernelspec": {
   "display_name": "Python 3",
   "language": "python",
   "name": "python3"
  },
  "language_info": {
   "codemirror_mode": {
    "name": "ipython",
    "version": 3
   },
   "file_extension": ".py",
   "mimetype": "text/x-python",
   "name": "python",
   "nbconvert_exporter": "python",
   "pygments_lexer": "ipython3",
   "version": "3.8.8"
  }
 },
 "nbformat": 4,
 "nbformat_minor": 5
}
